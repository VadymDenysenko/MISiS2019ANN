{
 "cells": [
  {
   "cell_type": "code",
   "execution_count": 1,
   "metadata": {
    "scrolled": true
   },
   "outputs": [
    {
     "name": "stderr",
     "output_type": "stream",
     "text": [
      "Using TensorFlow backend.\n"
     ]
    }
   ],
   "source": [
    "import pandas, keras\n",
    "import numpy as np\n",
    "from sklearn.metrics import roc_auc_score\n",
    "from IPython.display import FileLink, FileLinks\n",
    "import os \n",
    "import tensorflow as tf\n",
    "from keras.backend.tensorflow_backend import set_session\n",
    "import matplotlib.pyplot as plt"
   ]
  },
  {
   "cell_type": "markdown",
   "metadata": {},
   "source": [
    "## Using the right amount of resources"
   ]
  },
  {
   "cell_type": "code",
   "execution_count": 2,
   "metadata": {},
   "outputs": [],
   "source": [
    "os.environ[\"CUDA_VISIBLE_DEVICES\"] = \"1\"\n",
    "config = tf.ConfigProto()\n",
    "config.gpu_options.per_process_gpu_memory_fraction = 0.15\n",
    "set_session(tf.Session(config=config))"
   ]
  },
  {
   "cell_type": "markdown",
   "metadata": {},
   "source": [
    "# Exploring the dataset:\n",
    "\n",
    "## Load the dataset files"
   ]
  },
  {
   "cell_type": "code",
   "execution_count": 3,
   "metadata": {},
   "outputs": [],
   "source": [
    "particles_per_event=80\n",
    "features=4\n",
    "n_events=10000\n",
    "\n",
    "store_train = pandas.HDFStore(\"/disk/lhcb_data/davide/ML4HEP_exercise/train.h5\")\n",
    "df_train = store_train.select(\"table\",stop=n_events)\n",
    "\n",
    "cols = [c.format(i) for i in range(particles_per_event) for c in [\"E_{0}\",  \"PX_{0}\",  \"PY_{0}\",  \"PZ_{0}\"]]\n",
    "T = df_train[cols].values[0:n_events].reshape(n_events,particles_per_event,features)"
   ]
  },
  {
   "cell_type": "markdown",
   "metadata": {},
   "source": [
    "## The dataset tensor\n",
    "Our dataset is organized in a rank 3 tensor T, whose elements are labeled by indices (i, j, k). Index i runs on the event number, j numbers the particles in each event and index k the variable associated to the track in the event\n",
    "\n",
    "$$\n",
    "T = (i=1,...,n_{events}, j=1,...,\\textit{particles per event}, k= E_{j} , PX_{j}, PY_{j}, PZ_{j})\n",
    "$$\n"
   ]
  },
  {
   "cell_type": "code",
   "execution_count": 4,
   "metadata": {},
   "outputs": [
    {
     "data": {
      "text/plain": [
       "(10000, 80, 4)"
      ]
     },
     "execution_count": 4,
     "metadata": {},
     "output_type": "execute_result"
    }
   ],
   "source": [
    "T.shape"
   ]
  },
  {
   "cell_type": "markdown",
   "metadata": {},
   "source": [
    "## Fancy indexing\n",
    "\n",
    "For example, we can access to the single particles four momentum in an event by making use of indexing. Let's take the first particle in the first event: "
   ]
  },
  {
   "cell_type": "code",
   "execution_count": 5,
   "metadata": {},
   "outputs": [
    {
     "name": "stdout",
     "output_type": "stream",
     "text": [
      "The first particle in the first event has the following four momentum \n",
      "\n",
      "E_0 = 474.07\n",
      "PX_0 = -250.35\n",
      "PY_0 = -223.65\n",
      "PZ_0 = -334.74\n"
     ]
    }
   ],
   "source": [
    "print('The first particle in the first event has the following four momentum \\n')\n",
    "print('E_0 = {0:.5g}'.format(T[0,0,0]))\n",
    "print('PX_0 = {0:.5g}'.format(T[0,0,1]))\n",
    "print('PY_0 = {0:.5g}'.format(T[0,0,2]))\n",
    "print('PZ_0 = {0:.5g}'.format(T[0,0,3]))"
   ]
  },
  {
   "cell_type": "markdown",
   "metadata": {},
   "source": [
    "The same information can be accessed using numpy fancy indexing syntax, for example"
   ]
  },
  {
   "cell_type": "code",
   "execution_count": 6,
   "metadata": {},
   "outputs": [
    {
     "name": "stdout",
     "output_type": "stream",
     "text": [
      "The first particle in the first event has the following four momentum \n",
      "\n",
      "[ 474.07114 -250.34703 -223.65196 -334.7381 ]\n"
     ]
    }
   ],
   "source": [
    "print('The first particle in the first event has the following four momentum \\n')\n",
    "print(T[0,0,:])"
   ]
  },
  {
   "cell_type": "markdown",
   "metadata": {},
   "source": [
    "**Exercise**:Now, using numpy array methods calculate:\n",
    "\n",
    "1) the mean energy of all particles over all events (hint: exclude from the mean the empty events)\n",
    "\n",
    "\n",
    "2) the mean energy of the first 5 particles for the first 10 events\n",
    "\n",
    "3) the maximum PZ (in modulus) of the dataset"
   ]
  },
  {
   "cell_type": "code",
   "execution_count": 7,
   "metadata": {},
   "outputs": [],
   "source": [
    "#Solution:\n",
    "\n",
    "#1) T[:,:,0][np.where(T[:,:,0]!=0)].mean()\n",
    "#2) T[0:10,0:5,0].mean()\n",
    "#3) np.abs(T[:,:,3]).max()"
   ]
  },
  {
   "cell_type": "markdown",
   "metadata": {},
   "source": [
    "# Variables at hadron colliders: kinematic invariants\n",
    "\n",
    "\n",
    "The dataset can be cast to the $(\\eta \\text{, } \\phi)$ space.\n",
    "The rapidity $\\eta$ is related to $PZ$, of the particle track. It is defined as:\n",
    "\n",
    "$$\n",
    "\\eta = - \\frac{1}{2} ln \\left(\\frac{E - PZ}{ E + PZ} \\right)\n",
    "$$\n",
    "\n",
    "While $\\phi$ is related to the $(PX, PY)$ components by:\n",
    "\n",
    "$$\n",
    "\\phi = arctg\\left( \\frac{PY}{PX} \\right)\n",
    "$$\n",
    "\n",
    "As shown in figure, the CMS detector is formed by:\n",
    "\n",
    "1) a cylindrical barrel detector placed around the interaction point that covers a rapidity range of $|\\eta| < 2.5 $\n",
    "\n",
    "2) two $1.48 < | \\eta | < 3.0$ endcap regions"
   ]
  },
  {
   "cell_type": "markdown",
   "metadata": {},
   "source": [
    "<tr>\n",
    "<td><img src=\"imgs/front.png\" style=\"width:500px;height:400px;\">\n",
    "<td><img src=\"imgs/side.png\" style=\"width:500px;height:400px;\">\n",
    "<tr>\n"
   ]
  },
  {
   "cell_type": "markdown",
   "metadata": {},
   "source": [
    "<caption><u><font color='purple'>**Figure**</u><font color='purple'>Need a caption here<br> <font color='black'>"
   ]
  },
  {
   "cell_type": "markdown",
   "metadata": {},
   "source": [
    "The four momentum of each particle can be represented in the coordinates $(E, \\phi, \\eta)$ and each event can be displayed as 2D image in the ($\\phi, \\eta$) coordinates, whose pixels values are the corresponding E recorded by the calorimeter.\n",
    "\n",
    "First can convert the dataset to this new set of variables. We can do it with a few lines of code thanks to indexing:"
   ]
  },
  {
   "cell_type": "code",
   "execution_count": 21,
   "metadata": {},
   "outputs": [
    {
     "name": "stderr",
     "output_type": "stream",
     "text": [
      "/home/hep/davide/miniconda3/envs/keras_env/lib/python3.6/site-packages/ipykernel_launcher.py:1: RuntimeWarning: divide by zero encountered in true_divide\n",
      "  \"\"\"Entry point for launching an IPython kernel.\n",
      "/home/hep/davide/miniconda3/envs/keras_env/lib/python3.6/site-packages/ipykernel_launcher.py:1: RuntimeWarning: invalid value encountered in true_divide\n",
      "  \"\"\"Entry point for launching an IPython kernel.\n",
      "/home/hep/davide/miniconda3/envs/keras_env/lib/python3.6/site-packages/ipykernel_launcher.py:2: RuntimeWarning: divide by zero encountered in true_divide\n",
      "  \n",
      "/home/hep/davide/miniconda3/envs/keras_env/lib/python3.6/site-packages/ipykernel_launcher.py:2: RuntimeWarning: invalid value encountered in true_divide\n",
      "  \n"
     ]
    }
   ],
   "source": [
    "eta=np.where(T[:,:,0]==0, 0, 0.5*np.log((T[:,:,0]-T[:,:,3])/(T[:,:,0]+T[:,:,3])))\n",
    "phi=np.where(T[:,:,0]==0, 0, np.arctan(T[:,:,2]/T[:,:,1]))\n",
    "E=T[:,:,0]"
   ]
  },
  {
   "cell_type": "markdown",
   "metadata": {},
   "source": [
    "Then we can check that the $\\phi$ angular coverage is of $\\pi$"
   ]
  },
  {
   "cell_type": "code",
   "execution_count": 27,
   "metadata": {},
   "outputs": [
    {
     "name": "stdout",
     "output_type": "stream",
     "text": [
      "3.1415784\n"
     ]
    }
   ],
   "source": [
    "phi_range=np.abs(phi.min())+phi.max()\n",
    "print(phi_range)"
   ]
  },
  {
   "cell_type": "markdown",
   "metadata": {},
   "source": [
    "And that the rapidity range is within the expected one"
   ]
  },
  {
   "cell_type": "code",
   "execution_count": 28,
   "metadata": {},
   "outputs": [
    {
     "data": {
      "text/plain": [
       "(-2.7575567, 2.7707026)"
      ]
     },
     "execution_count": 28,
     "metadata": {},
     "output_type": "execute_result"
    }
   ],
   "source": [
    "eta_range=np.abs(eta.min())+eta.max()\n",
    "eta.min(), eta.max()"
   ]
  },
  {
   "cell_type": "code",
   "execution_count": 29,
   "metadata": {},
   "outputs": [],
   "source": [
    "eta_rescaled=(eta+np.abs(eta.min()))/eta_range*40\n",
    "phi_rescaled=(phi+np.abs(phi.min()))/phi_range*40\n",
    "\n",
    "batch_size=2000\n",
    "n_batches=n_events//batch_size\n",
    "phi_pixels=40\n",
    "eta_pixels=40\n",
    "\n",
    "pics_dict={}\n",
    "\n",
    "for i in range(n_batches):\n",
    "    \n",
    "    pic = np.zeros(shape=(phi_pixels,eta_pixels,1),dtype=np.float32)\n",
    "    pics_dict[i]=np.array([pic for j in range(0,batch_size)])\n",
    "        #pics_dict_flip[n]=np.array([pic for i in range(0,batch_size)])\n",
    "\n",
    "    for event in range(batch_size):\n",
    "\n",
    "        for n_track in range((phi[event]>0).sum()):\n",
    "            #print(n_track)\n",
    "            phi_coord = int(np.floor(phi_rescaled[event][n_track]))\n",
    "            eta_coord = int(np.floor(eta_rescaled[event][n_track]))\n",
    "        \n",
    "            #if 0<phi_coord<phi_pixels:\n",
    "                #if 0<eta_coord<eta_pixels:\n",
    "                \n",
    "            pics_dict[i][event][phi_coord,eta_coord]=E[event][n_track]"
   ]
  },
  {
   "cell_type": "code",
   "execution_count": 30,
   "metadata": {},
   "outputs": [],
   "source": [
    "batch_number=0\n",
    "event_display=100"
   ]
  },
  {
   "cell_type": "code",
   "execution_count": 31,
   "metadata": {},
   "outputs": [
    {
     "data": {
      "text/plain": [
       "<matplotlib.colorbar.Colorbar at 0x7f74e8157320>"
      ]
     },
     "execution_count": 31,
     "metadata": {},
     "output_type": "execute_result"
    },
    {
     "data": {
      "image/png": "[encoded data removed]",
      "text/plain": [
       "<Figure size 432x288 with 2 Axes>"
      ]
     },
     "metadata": {
      "needs_background": "light"
     },
     "output_type": "display_data"
    }
   ],
   "source": [
    "plt.imshow(pics_dict[batch_number][event_display].reshape(40,40))\n",
    "plt.colorbar()"
   ]
  },
  {
   "cell_type": "code",
   "execution_count": 32,
   "metadata": {},
   "outputs": [
    {
     "data": {
      "image/png": "[encoded data removed]",
      "text/plain": [
       "<Figure size 432x288 with 1 Axes>"
      ]
     },
     "metadata": {
      "needs_background": "light"
     },
     "output_type": "display_data"
    }
   ],
   "source": [
    "plt.hist(E[np.where(2<E)],range=(0,250),bins=50);"
   ]
  },
  {
   "cell_type": "markdown",
   "metadata": {},
   "source": [
    "# Building the neural network"
   ]
  },
  {
   "cell_type": "code",
   "execution_count": 5,
   "metadata": {},
   "outputs": [
    {
     "name": "stderr",
     "output_type": "stream",
     "text": [
      "/home/hep/davide/miniconda3/envs/keras_env/lib/python3.6/site-packages/ipykernel_launcher.py:7: FutureWarning: Method .as_matrix will be removed in a future version. Use .values instead.\n",
      "  import sys\n"
     ]
    },
    {
     "name": "stdout",
     "output_type": "stream",
     "text": [
      "Epoch 1/10\n",
      "10000/10000 [==============================] - 1s 86us/step - loss: 6.2116 - acc: 0.5445\n",
      "Epoch 2/10\n",
      "10000/10000 [==============================] - 1s 55us/step - loss: 4.1712 - acc: 0.6148\n",
      "Epoch 3/10\n",
      "10000/10000 [==============================] - 1s 54us/step - loss: 3.4288 - acc: 0.6232\n",
      "Epoch 4/10\n",
      "10000/10000 [==============================] - 1s 56us/step - loss: 2.5045 - acc: 0.6176\n",
      "Epoch 5/10\n",
      "10000/10000 [==============================] - 1s 56us/step - loss: 1.7089 - acc: 0.6175\n",
      "Epoch 6/10\n",
      "10000/10000 [==============================] - 1s 55us/step - loss: 1.2610 - acc: 0.6204\n",
      "Epoch 7/10\n",
      "10000/10000 [==============================] - 1s 54us/step - loss: 0.9665 - acc: 0.6266\n",
      "Epoch 8/10\n",
      "10000/10000 [==============================] - 1s 55us/step - loss: 0.8228 - acc: 0.6327\n",
      "Epoch 9/10\n",
      "10000/10000 [==============================] - 1s 55us/step - loss: 0.7668 - acc: 0.6326\n",
      "Epoch 10/10\n",
      "10000/10000 [==============================] - 1s 55us/step - loss: 0.7159 - acc: 0.6381\n"
     ]
    },
    {
     "data": {
      "text/plain": [
       "<keras.callbacks.History at 0x7fed8024fa20>"
      ]
     },
     "execution_count": 5,
     "metadata": {},
     "output_type": "execute_result"
    }
   ],
   "source": [
    "# Define the network\n",
    "model = keras.models.Sequential()\n",
    "model.add(keras.layers.Dense(2, input_shape = (80,), activation='softmax'))\n",
    "\n",
    "# Train the network\n",
    "model.compile(loss='categorical_crossentropy', optimizer=\"adam\", metrics = [\"accuracy\"])\n",
    "model.fit(df_train[cols].as_matrix(), keras.utils.to_categorical(df_train[\"is_signal_new\"]), epochs=10)"
   ]
  },
  {
   "cell_type": "markdown",
   "metadata": {},
   "source": [
    "# Neural network optimization"
   ]
  },
  {
   "cell_type": "code",
   "execution_count": 4,
   "metadata": {
    "scrolled": true
   },
   "outputs": [
    {
     "name": "stdout",
     "output_type": "stream",
     "text": [
      "Running on full test sample. This may take a moment.\n",
      "updating: result.npy (deflated 10%)\n",
      "Done. Click below  to download result\n"
     ]
    },
    {
     "data": {
      "text/html": [
       "<a href='result.zip' target='_blank'>result.zip</a><br>"
      ],
      "text/plain": [
       "/home/ubuntu/challenge/result.zip"
      ]
     },
     "execution_count": 4,
     "metadata": {},
     "output_type": "execute_result"
    }
   ],
   "source": [
    "### Evaluate performance on independent sample\n",
    "# DO NOT CHANGE BELOW!\n",
    "\n",
    "# Prepare input\n",
    "store_test = pandas.HDFStore(\"test_without_truth_100k.h5\")\n",
    "df_test = store_test.select(\"table\")\n",
    "\n",
    "# Run DNN\n",
    "print(\"Running on full test sample. This may take a moment.\")\n",
    "ret = model.predict(df_test[cols].as_matrix())\n",
    "np.save(\"result.npy\",ret[:,1])\n",
    "!zip result.zip result.npy\n",
    "print(\"Done. Click below  to download result\")\n",
    "FileLink('result.zip')"
   ]
  },
  {
   "cell_type": "code",
   "execution_count": null,
   "metadata": {},
   "outputs": [],
   "source": []
  }
 ],
 "metadata": {
  "kernelspec": {
   "display_name": "Python 3",
   "language": "python",
   "name": "python3"
  },
  "language_info": {
   "codemirror_mode": {
    "name": "ipython",
    "version": 3
   },
   "file_extension": ".py",
   "mimetype": "text/x-python",
   "name": "python",
   "nbconvert_exporter": "python",
   "pygments_lexer": "ipython3",
   "version": "3.6.8"
  }
 },
 "nbformat": 4,
 "nbformat_minor": 2
}
